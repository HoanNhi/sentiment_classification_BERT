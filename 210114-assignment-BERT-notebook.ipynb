{
  "cells": [
    {
      "cell_type": "markdown",
      "metadata": {
        "id": "9TnJztDZGw-n"
      },
      "source": [
        "# Sentiment classification with BERT"
      ]
    },
    {
      "cell_type": "markdown",
      "metadata": {
        "id": "_2VQo4bajwUU"
      },
      "source": [
        "`imdb_reviews` dataset is a large movie review dataset. This dataset is for binary sentiment classification containing a set of 25,000 highly polar movie reviews for training, and 25,000 for testing. All the reviews have either a *positive* or *negative* sentiment.\n",
        "Reference: http://ai.stanford.edu/~amaas/data/sentiment/\n",
        "\n",
        "Each data sample contains:\n",
        "* label (tf.int64)\n",
        "* text (tf.string)"
      ]
    },
    {
      "cell_type": "code",
      "execution_count": 1,
      "metadata": {},
      "outputs": [
        {
          "ename": "SyntaxError",
          "evalue": "incomplete input (1764519666.py, line 3)",
          "output_type": "error",
          "traceback": [
            "\u001b[1;36m  Cell \u001b[1;32mIn[1], line 3\u001b[1;36m\u001b[0m\n\u001b[1;33m    \u001b[0m\n\u001b[1;37m    ^\u001b[0m\n\u001b[1;31mSyntaxError\u001b[0m\u001b[1;31m:\u001b[0m incomplete input\n"
          ]
        }
      ],
      "source": [
        "RunningInCOLAB = 'google.colab' in str(get_ipython()) if hasattr(__builtins__,'__IPYTHON__') else False\n",
        "if RunningInCOLAB:\n",
        "    !pip install -U numpy\n",
        "    # Download tensorflow datasets\n",
        "    !pip install tensorflow_datasets -q\n",
        "\n",
        "    # A dependency of the preprocessing for BERT inputs\n",
        "    !pip install tensorflow-text==2.11.* -q\n",
        "    !pip install tf-models-official -q\n",
        "    !pip install tensorflow_hub -q"
      ]
    },
    {
      "cell_type": "code",
      "execution_count": 3,
      "metadata": {
        "id": "CCNd0Qf86uPk"
      },
      "outputs": [],
      "source": [
        "from sklearn.model_selection import train_test_split\n"
      ]
    },
    {
      "cell_type": "code",
      "execution_count": 4,
      "metadata": {
        "id": "CrqfUUr3oQOr"
      },
      "outputs": [],
      "source": [
        "# Import libraries\n",
        "import numpy as np\n",
        "import matplotlib.pyplot as plt\n",
        "\n",
        "import tensorflow_datasets as tfds\n",
        "import tensorflow as tf\n",
        "from tensorflow import keras\n",
        "import tensorflow_hub as hub\n",
        "import tensorflow_text as text\n",
        "\n",
        "from keras.callbacks import ReduceLROnPlateau, ModelCheckpoint, EarlyStopping\n"
      ]
    },
    {
      "cell_type": "markdown",
      "metadata": {
        "id": "pRmMubr0jrE2"
      },
      "source": [
        "# Load the dataset\n"
      ]
    },
    {
      "cell_type": "code",
      "execution_count": 5,
      "metadata": {
        "colab": {
          "base_uri": "https://localhost:8080/"
        },
        "id": "SHRwRoP2nVHX",
        "outputId": "ede19473-5238-4fc2-b48e-cc2d815b61ff"
      },
      "outputs": [
        {
          "name": "stdout",
          "output_type": "stream",
          "text": [
            "Training set:  20000 samples\n",
            "Validation set:  5000 samples\n",
            "Test set:  25000 samples\n"
          ]
        }
      ],
      "source": [
        "# train_dataset, test_dataset = train_test_split(data[0], data[1], train_size = 0.8, random_state=None, shuffle=False)\n",
        "# test_dataset, val_dataset = train_test_split(test_dataset, train_size = 0.5, shuffle=False)\n",
        "train_dataset, val_dataset, test_dataset = tfds.load(name=\"imdb_reviews\", split=('train[:80%]', 'train[80%:]', 'test'), as_supervised=True)\n",
        "\n",
        "print(\"Training set: \", len(train_dataset), \"samples\")\n",
        "print(\"Validation set: \", len(val_dataset), \"samples\")\n",
        "print(\"Test set: \", len(test_dataset), \"samples\")"
      ]
    },
    {
      "cell_type": "code",
      "execution_count": 6,
      "metadata": {
        "colab": {
          "base_uri": "https://localhost:8080/"
        },
        "id": "vd4_BGKyurao",
        "outputId": "833b6828-f3f1-4154-8222-67935c5000d2"
      },
      "outputs": [
        {
          "name": "stdout",
          "output_type": "stream",
          "text": [
            "text:  b\"This was an absolutely terrible movie. Don't be lured in by Christopher Walken or Michael Ironside. Both are great actors, but this must simply be their worst role in history. Even their great acting could not redeem this movie's ridiculous storyline. This movie is an early nineties US propaganda piece. The most pathetic scenes were those when the Columbian rebels were making their cases for revolutions. Maria Conchita Alonso appeared phony, and her pseudo-love affair with Walken was nothing but a pathetic emotional plug in a movie that was devoid of any real meaning. I am disappointed that there are movies like this, ruining actor's like Christopher Walken's good name. I could barely sit through it.\"\n",
            "label:  0\n",
            "text:  b'I have been known to fall asleep during films, but this is usually due to a combination of things including, really tired, being warm and comfortable on the sette and having just eaten a lot. However on this occasion I fell asleep because the film was rubbish. The plot development was constant. Constantly slow and boring. Things seemed to happen, but with no explanation of what was causing them or why. I admit, I may have missed part of the film, but i watched the majority of it and everything just seemed to happen of its own accord without any real concern for anything else. I cant recommend this film at all.'\n",
            "label:  0\n",
            "text:  b'Mann photographs the Alberta Rocky Mountains in a superb fashion, and Jimmy Stewart and Walter Brennan give enjoyable performances as they always seem to do. <br /><br />But come on Hollywood - a Mountie telling the people of Dawson City, Yukon to elect themselves a marshal (yes a marshal!) and to enforce the law themselves, then gunfighters battling it out on the streets for control of the town? <br /><br />Nothing even remotely resembling that happened on the Canadian side of the border during the Klondike gold rush. Mr. Mann and company appear to have mistaken Dawson City for Deadwood, the Canadian North for the American Wild West.<br /><br />Canadian viewers be prepared for a Reefer Madness type of enjoyable howl with this ludicrous plot, or, to shake your head in disgust.'\n",
            "label:  0\n"
          ]
        }
      ],
      "source": [
        "# Show same samples (text reviews and labels) in the training set\n",
        "for example, label in train_dataset.take(3):\n",
        "  print('text: ', example.numpy())\n",
        "  print('label: ', label.numpy())"
      ]
    },
    {
      "cell_type": "code",
      "execution_count": 7,
      "metadata": {
        "colab": {
          "base_uri": "https://localhost:8080/"
        },
        "id": "dDsCaZCDYZgm",
        "outputId": "ac1f424e-43a6-4dce-8dd8-fca87f21d2b7"
      },
      "outputs": [
        {
          "name": "stdout",
          "output_type": "stream",
          "text": [
            "X_train shape: (40000,)\n",
            "y_train shape: (40000,)\n",
            "X_val shape: (5000,)\n",
            "y_val shape: (5000,)\n",
            "X_test shape: (5000,)\n",
            "y_test shape: (5000,)\n"
          ]
        }
      ],
      "source": [
        "### Convert Tensorflow Dataset to numpy arrays of feature vector X and label y\n",
        "\n",
        "# Convert training set\n",
        "train_ds_numpy = tfds.as_numpy(train_dataset) # Convert TF Dataset to an iterable of numpy array\n",
        "train_numpy = np.vstack(list(train_ds_numpy)) # Stack to full numpy array\n",
        "X_train = np.array(list(map(lambda x: x[0], train_numpy))) # Extract review (index 0) from numpy vector\n",
        "y_train = np.array(list(map(lambda x: x[1], train_numpy))).astype(np.int16)   # Extract label (index 1) from numpy vector\n",
        "\n",
        "# Convert validation set\n",
        "val_ds_numpy = tfds.as_numpy(val_dataset) # Convert TF Dataset to an iterable of numpy array\n",
        "val_numpy = np.vstack(list(val_ds_numpy)) # Stack to full numpy array\n",
        "X_val = np.array(list(map(lambda x: x[0], val_numpy))) # Extract review (index 0) from numpy vector\n",
        "y_val = np.array(list(map(lambda x: x[1], val_numpy))).astype(np.int16) # Extract label (index 1) from numpy vector\n",
        "\n",
        "# Convert test set\n",
        "# the test-set occupies 50% of the entire dataset (25000), now we use only 10%  which is 5000 samples and the rest will be added into train-set.\n",
        "test_ds_numpy = tfds.as_numpy(test_dataset) # Convert TF Dataset to an iterable of numpy array\n",
        "test_numpy = np.vstack(list(test_ds_numpy)) # Stack to full numpy array\n",
        "X_test = np.array(list(map(lambda x: x[0], test_numpy))) # Extract review (index 0) from numpy vector\n",
        "y_test = np.array(list(map(lambda x: x[1], test_numpy))).astype(np.int16)  # Extract label (index 1) from numpy vector\n",
        "X_train_plus, X_test, y_train_plus, y_test = train_test_split(\n",
        "             X_test, y_test, test_size = 0.2, random_state=42)\n",
        "\n",
        "# Convert lists to numpy arrays\n",
        "X_train_plus = np.array(X_train_plus)\n",
        "y_train_addded = np.array(y_train_plus)\n",
        "X_test = np.array(X_test)\n",
        "y_test = np.array(y_test)\n",
        "# add the additional train-set  into the original one.\n",
        "X_train = np.concatenate((X_train, X_train_plus), axis=0)\n",
        "y_train = np.concatenate((y_train, y_train_plus), axis=0)\n",
        "\n",
        "print(\"X_train shape: \" + str(X_train.shape))\n",
        "print(\"y_train shape: \" + str(y_train.shape))\n",
        "print(\"X_val shape: \" + str(X_val.shape))\n",
        "print(\"y_val shape: \" + str(y_val.shape))\n",
        "print(\"X_test shape: \" + str(X_test.shape))\n",
        "print(\"y_test shape: \" + str(y_test.shape))"
      ]
    },
    {
      "cell_type": "code",
      "execution_count": 8,
      "metadata": {
        "cellView": "form",
        "colab": {
          "base_uri": "https://localhost:8080/"
        },
        "id": "y8_ctG55-uTX",
        "outputId": "ac3f3313-66aa-4c06-9231-e475b817cf5d"
      },
      "outputs": [
        {
          "name": "stdout",
          "output_type": "stream",
          "text": [
            "BERT model selected           : https://tfhub.dev/tensorflow/small_bert/bert_en_uncased_L-4_H-128_A-2/2\n",
            "Preprocess model auto-selected: https://tfhub.dev/tensorflow/bert_en_uncased_preprocess/3\n"
          ]
        }
      ],
      "source": [
        "### Below are two examples of BERT models with corresponding preprocessings for use with them\n",
        "# Full list of BERT models supported by Tensorflow can be found at https://tfhub.dev/google/collections/bert/1\n",
        "\n",
        "# Mapping from name to URL of Bert models\n",
        "map_name_to_model = {\n",
        "    'small_bert/bert_en_uncased_L-2_H-128_A-2':\n",
        "        'https://tfhub.dev/tensorflow/small_bert/bert_en_uncased_L-2_H-128_A-2/1',\n",
        "    'small_bert/bert_en_uncased_L-4_H-128_A-2':\n",
        "        'https://tfhub.dev/tensorflow/small_bert/bert_en_uncased_L-4_H-128_A-2/2',\n",
        "}\n",
        "\n",
        "# Mapping from name to URL of respective processings for the Bert models\n",
        "map_name_to_preprocess = {\n",
        "    'small_bert/bert_en_uncased_L-2_H-128_A-2':\n",
        "        'https://tfhub.dev/tensorflow/bert_en_uncased_preprocess/3',\n",
        "    'small_bert/bert_en_uncased_L-4_H-128_A-2':\n",
        "        'https://tfhub.dev/tensorflow/bert_en_uncased_preprocess/3',\n",
        "}\n",
        "\n",
        "### Choose a model: Small BERT model for English language with L-2_H-128_A-2. This means the BERT model has:\n",
        "# - 2 layers, i.e., 2 Transformer-encoder blocks.\n",
        "# - Hidden states = 128.\n",
        "# - Attention heads = 2.\n",
        "# This Small BERT model is available at https://tfhub.dev/tensorflow/small_bert/bert_en_uncased_L-2_H-128_A-2/1\n",
        "bert_name = 'small_bert/bert_en_uncased_L-4_H-128_A-2'\n",
        "\n",
        "# Get URLs of model and processing from tfhub\n",
        "tfhub_model = map_name_to_model[bert_name]\n",
        "tfhub_preprocess = map_name_to_preprocess[bert_name]\n",
        "\n",
        "print('BERT model selected           : ' + str(tfhub_model))\n",
        "print('Preprocess model auto-selected: ' + str(tfhub_preprocess))"
      ]
    },
    {
      "cell_type": "markdown",
      "metadata": {
        "id": "-FYvQ0s8oQOw"
      },
      "source": [
        "# Preprocess data to match with BERT model input requirement"
      ]
    },
    {
      "cell_type": "code",
      "execution_count": 9,
      "metadata": {
        "id": "xrD0gQkhoQOw"
      },
      "outputs": [],
      "source": [
        "# Load the preprocessing module\n",
        "bert_preprocess = hub.KerasLayer(tfhub_preprocess)"
      ]
    },
    {
      "cell_type": "code",
      "execution_count": 10,
      "metadata": {
        "colab": {
          "base_uri": "https://localhost:8080/"
        },
        "id": "97H-PoAhoQOw",
        "outputId": "ff768576-b007-442f-faee-083ea9686312"
      },
      "outputs": [
        {
          "name": "stdout",
          "output_type": "stream",
          "text": [
            "Keys: ['input_type_ids', 'input_mask', 'input_word_ids']\n",
            "Shape: (2, 128)\n",
            "Word Ids: tf.Tensor(\n",
            "[[  101  2009  2003  1037  4658  3185  1012  1996  8389  1998  1996  7284\n",
            "   2024 12476  1012   102     0     0     0     0     0     0     0     0\n",
            "      0     0     0     0     0     0     0     0     0     0     0     0\n",
            "      0     0     0     0     0     0     0     0     0     0     0     0\n",
            "      0     0     0     0     0     0     0     0     0     0     0     0\n",
            "      0     0     0     0     0     0     0     0     0     0     0     0\n",
            "      0     0     0     0     0     0     0     0     0     0     0     0\n",
            "      0     0     0     0     0     0     0     0     0     0     0     0\n",
            "      0     0     0     0     0     0     0     0     0     0     0     0\n",
            "      0     0     0     0     0     0     0     0     0     0     0     0\n",
            "      0     0     0     0     0     0     0     0]\n",
            " [  101  1996  3185  2001  2428  2204  1012  1045  2052 16755  1012   102\n",
            "      0     0     0     0     0     0     0     0     0     0     0     0\n",
            "      0     0     0     0     0     0     0     0     0     0     0     0\n",
            "      0     0     0     0     0     0     0     0     0     0     0     0\n",
            "      0     0     0     0     0     0     0     0     0     0     0     0\n",
            "      0     0     0     0     0     0     0     0     0     0     0     0\n",
            "      0     0     0     0     0     0     0     0     0     0     0     0\n",
            "      0     0     0     0     0     0     0     0     0     0     0     0\n",
            "      0     0     0     0     0     0     0     0     0     0     0     0\n",
            "      0     0     0     0     0     0     0     0     0     0     0     0\n",
            "      0     0     0     0     0     0     0     0]], shape=(2, 128), dtype=int32)\n",
            "Input Mask: tf.Tensor(\n",
            "[[1 1 1 1 1 1 1 1 1 1 1 1 1 1 1 1 0 0 0 0 0 0 0 0 0 0 0 0 0 0 0 0 0 0 0 0\n",
            "  0 0 0 0 0 0 0 0 0 0 0 0 0 0 0 0 0 0 0 0 0 0 0 0 0 0 0 0 0 0 0 0 0 0 0 0\n",
            "  0 0 0 0 0 0 0 0 0 0 0 0 0 0 0 0 0 0 0 0 0 0 0 0 0 0 0 0 0 0 0 0 0 0 0 0\n",
            "  0 0 0 0 0 0 0 0 0 0 0 0 0 0 0 0 0 0 0 0]\n",
            " [1 1 1 1 1 1 1 1 1 1 1 1 0 0 0 0 0 0 0 0 0 0 0 0 0 0 0 0 0 0 0 0 0 0 0 0\n",
            "  0 0 0 0 0 0 0 0 0 0 0 0 0 0 0 0 0 0 0 0 0 0 0 0 0 0 0 0 0 0 0 0 0 0 0 0\n",
            "  0 0 0 0 0 0 0 0 0 0 0 0 0 0 0 0 0 0 0 0 0 0 0 0 0 0 0 0 0 0 0 0 0 0 0 0\n",
            "  0 0 0 0 0 0 0 0 0 0 0 0 0 0 0 0 0 0 0 0]], shape=(2, 128), dtype=int32)\n",
            "Type Ids: tf.Tensor(\n",
            "[[0 0 0 0 0 0 0 0 0 0 0 0 0 0 0 0 0 0 0 0 0 0 0 0 0 0 0 0 0 0 0 0 0 0 0 0\n",
            "  0 0 0 0 0 0 0 0 0 0 0 0 0 0 0 0 0 0 0 0 0 0 0 0 0 0 0 0 0 0 0 0 0 0 0 0\n",
            "  0 0 0 0 0 0 0 0 0 0 0 0 0 0 0 0 0 0 0 0 0 0 0 0 0 0 0 0 0 0 0 0 0 0 0 0\n",
            "  0 0 0 0 0 0 0 0 0 0 0 0 0 0 0 0 0 0 0 0]\n",
            " [0 0 0 0 0 0 0 0 0 0 0 0 0 0 0 0 0 0 0 0 0 0 0 0 0 0 0 0 0 0 0 0 0 0 0 0\n",
            "  0 0 0 0 0 0 0 0 0 0 0 0 0 0 0 0 0 0 0 0 0 0 0 0 0 0 0 0 0 0 0 0 0 0 0 0\n",
            "  0 0 0 0 0 0 0 0 0 0 0 0 0 0 0 0 0 0 0 0 0 0 0 0 0 0 0 0 0 0 0 0 0 0 0 0\n",
            "  0 0 0 0 0 0 0 0 0 0 0 0 0 0 0 0 0 0 0 0]], shape=(2, 128), dtype=int32)\n"
          ]
        }
      ],
      "source": [
        "### Analyze and understand the preprocessing module\n",
        "\n",
        "# Some sample text reviews\n",
        "sample_texts = ['It is a cool movie. The graphics and the animation are awesome.',\n",
        "                'The movie was really good. I would recommend.']\n",
        "\n",
        "# Get the text reviews through the preprocessing module\n",
        "sample_texts_preprocessed = bert_preprocess(sample_texts)\n",
        "\n",
        "### Get outputs of the preprocessing module.\n",
        "# There are three outputs from the preprocessing that a BERT model would use: input_words_id, input_mask and input_type_ids\n",
        "# Note that the inputs are truncated to 128 tokens (words) for a fixed length.\n",
        "print('Keys: ' + str(list(sample_texts_preprocessed.keys())))\n",
        "\n",
        "# Shape of the input_words_id\n",
        "print('Shape: ' + str(sample_texts_preprocessed[\"input_word_ids\"].shape))\n",
        "\n",
        "# Content of the input_words_id\n",
        "print('Word Ids: ' + str(sample_texts_preprocessed[\"input_word_ids\"]))\n",
        "\n",
        "# Content of the input_mask\n",
        "print('Input Mask: ' + str(sample_texts_preprocessed[\"input_mask\"]))\n",
        "\n",
        "# Content of the input_type_ids\n",
        "print('Type Ids: ' + str(sample_texts_preprocessed[\"input_type_ids\"]))"
      ]
    },
    {
      "cell_type": "code",
      "execution_count": 11,
      "metadata": {
        "id": "QuSeRpHlsvLk"
      },
      "outputs": [],
      "source": [
        "input_mask = np.array(sample_texts_preprocessed[\"input_mask\"]).reshape(-1, 1, 128)"
      ]
    },
    {
      "cell_type": "code",
      "execution_count": 12,
      "metadata": {
        "colab": {
          "base_uri": "https://localhost:8080/"
        },
        "id": "emipCc_QuanP",
        "outputId": "7f35d5cf-2c62-4d91-eef3-c1b3d492f2ba"
      },
      "outputs": [
        {
          "data": {
            "text/plain": [
              "(2, 1, 128)"
            ]
          },
          "execution_count": 12,
          "metadata": {},
          "output_type": "execute_result"
        }
      ],
      "source": [
        "input_mask.shape"
      ]
    },
    {
      "cell_type": "markdown",
      "metadata": {
        "id": "7lF1chDooQOx"
      },
      "source": [
        "# Load BERT model"
      ]
    },
    {
      "cell_type": "code",
      "execution_count": 13,
      "metadata": {
        "id": "zA-ZDRhZoQOx"
      },
      "outputs": [],
      "source": [
        "# Load the BERT model. This can be consider as an 'encoder'\n",
        "bert_model = hub.KerasLayer(tfhub_model)"
      ]
    },
    {
      "cell_type": "code",
      "execution_count": 14,
      "metadata": {
        "colab": {
          "base_uri": "https://localhost:8080/"
        },
        "id": "01B6Fr5PoQOx",
        "outputId": "8bc1ee45-6627-44c7-e709-28cb512d211a"
      },
      "outputs": [
        {
          "name": "stdout",
          "output_type": "stream",
          "text": [
            "Loaded BERT: https://tfhub.dev/tensorflow/small_bert/bert_en_uncased_L-4_H-128_A-2/2\n",
            "Pooled Outputs Shape: (2, 128)\n",
            "Pooled Outputs Values: tf.Tensor(\n",
            "[[ 5.74926510e-02  8.29617083e-01  2.21141815e-01 -9.07549977e-01\n",
            "   8.77506971e-01 -9.37170535e-03 -8.67895126e-01  9.30034101e-01\n",
            "   1.07965089e-01 -3.14920664e-01 -9.93551314e-01 -4.09096748e-01\n",
            "   9.98683155e-01  9.99570131e-01 -9.76822793e-01  8.29320669e-01\n",
            "   3.00475925e-01 -9.76671994e-01  9.66599107e-01 -9.95808959e-01\n",
            "   9.91097152e-01  9.91468728e-01 -7.10828364e-01  9.98033881e-01\n",
            "   9.98058319e-01  9.95148718e-01 -9.98793364e-01  5.59577122e-02\n",
            "   3.31256568e-01  9.79301453e-01  1.88552272e-02  6.05523169e-01\n",
            "  -9.93376076e-01 -4.56255525e-01 -9.97147202e-01  8.39755893e-01\n",
            "   1.01908341e-01 -1.32392064e-01  6.24565601e-01 -5.92307091e-01\n",
            "  -9.88178372e-01  7.48368442e-01  4.76031423e-01  6.41885251e-02\n",
            "   5.26422262e-01  9.93735373e-01  6.07452989e-01 -9.72289503e-01\n",
            "   8.06861185e-03  9.97892261e-01 -9.72344577e-01  8.67964849e-02\n",
            "  -3.60784560e-01 -9.97986019e-01  2.98858762e-01 -4.04493250e-02\n",
            "   8.73700738e-01 -8.95170391e-01  9.87100184e-01 -9.74266827e-01\n",
            "   9.95327711e-01  3.44231762e-02  9.29230526e-02 -9.99968946e-01\n",
            "   1.09903075e-01  6.07254624e-01 -8.08145285e-01  9.76669729e-01\n",
            "  -8.79300237e-01 -7.96113849e-01  9.81246173e-01  9.99495268e-01\n",
            "  -1.81567013e-01 -8.83887112e-01  9.95408058e-01 -6.20603442e-01\n",
            "  -6.71281740e-02 -1.28486440e-01 -1.50547296e-01 -1.75799965e-03\n",
            "   9.24505889e-01  7.26088226e-01  9.99256968e-01  9.51958477e-01\n",
            "   4.22714114e-01  4.94411230e-01 -9.98258054e-01 -9.95692194e-01\n",
            "   8.37959766e-01  5.09714723e-01  9.84091818e-01 -8.86190772e-01\n",
            "  -9.38482523e-01 -5.36773838e-02 -9.95357931e-01 -9.26398575e-01\n",
            "   9.43414569e-01  9.91256416e-01  4.55016673e-01  8.78682613e-01\n",
            "  -9.90921557e-01  7.29398072e-01  6.13016248e-01  8.40151682e-02\n",
            "   6.42674565e-01 -4.98451561e-01  9.97725308e-01  9.54576433e-01\n",
            "  -9.64036465e-01  9.97553170e-01 -9.63946700e-01  2.80299522e-02\n",
            "   9.16144013e-01 -9.91326690e-01  9.98517871e-01 -9.94895816e-01\n",
            "   5.45134902e-01 -1.06568187e-01 -1.35656344e-02  1.68196455e-01\n",
            "  -9.20479596e-01 -9.95809436e-01  9.95453954e-01  6.49316013e-02\n",
            "   9.97330666e-01  9.87074256e-01  6.17782712e-01  9.91941750e-01]\n",
            " [-7.37745082e-04  8.64550471e-01  8.66806686e-01 -7.96919048e-01\n",
            "   9.49278355e-01 -6.11663759e-02  8.74883235e-01  9.43556547e-01\n",
            "  -1.18220225e-02 -5.11482179e-01 -9.99489367e-01 -5.30159831e-01\n",
            "   9.97828126e-01  9.98752534e-01 -1.50678709e-01  9.36137497e-01\n",
            "   2.57442832e-01 -9.85806942e-01  9.91938651e-01 -9.98225212e-01\n",
            "   7.82579541e-01  9.48082626e-01  4.70516413e-01  9.92652953e-01\n",
            "   9.89861727e-01  9.60393727e-01 -9.99486208e-01  8.17945451e-02\n",
            "   9.90582645e-01  9.43851411e-01 -2.26900596e-02  8.75286698e-01\n",
            "  -9.79171336e-01 -9.71266627e-01 -9.99144316e-01  7.80676007e-01\n",
            "   4.96335179e-02 -8.22829381e-02  1.73255533e-01 -8.89462411e-01\n",
            "  -9.74426031e-01 -9.55007434e-01  8.73530805e-01  9.04666662e-01\n",
            "   9.58048701e-01  9.98676360e-01 -9.16183114e-01 -9.85500216e-01\n",
            "  -1.23626390e-03  9.99735892e-01 -9.85660791e-01 -9.83677387e-01\n",
            "  -9.87037420e-01 -9.33436453e-01  6.75347269e-01 -6.32520616e-02\n",
            "   9.33052957e-01 -8.64693165e-01 -3.99902761e-02 -9.82749343e-01\n",
            "   9.96070147e-01  1.90337058e-02  7.74399340e-02 -9.99986112e-01\n",
            "   7.37454519e-02  8.68412912e-01 -9.39509213e-01  9.97405708e-01\n",
            "  -8.19781721e-01 -9.59271312e-01  9.99398232e-01  9.99119103e-01\n",
            "  -5.15798271e-01 -7.73734808e-01  9.84938025e-01  3.71731818e-01\n",
            "  -2.89641228e-02 -8.75502706e-01 -3.37301232e-02 -8.20021108e-02\n",
            "   9.89417374e-01  9.93254125e-01  9.99426007e-01  9.90287900e-01\n",
            "   1.73163399e-01  8.62296641e-01 -9.99147892e-01 -9.99611437e-01\n",
            "   9.95652795e-01 -2.00082804e-03  4.20959473e-01 -9.38325286e-01\n",
            "  -9.94231761e-01 -6.42441452e-01 -9.95660603e-01 -7.36526847e-01\n",
            "   8.54210794e-01  9.78748500e-01  5.15954971e-01  8.95856440e-01\n",
            "  -9.79216278e-01  9.74164307e-01  9.13167775e-01  5.07078730e-02\n",
            "   9.58208084e-01  6.95883334e-01  9.98824418e-01  9.86285865e-01\n",
            "  -9.99756396e-01  9.93852437e-01 -9.99724865e-01 -4.26971652e-02\n",
            "   9.78145301e-01 -9.22349453e-01  9.98808324e-01 -9.96170402e-01\n",
            "   9.92506385e-01  9.71370757e-01 -2.17673946e-02  9.76743400e-01\n",
            "  -5.33607483e-01 -9.78477120e-01  9.81555820e-01 -2.63979640e-02\n",
            "   9.99454677e-01  9.78786170e-01  4.88844424e-01  8.12088370e-01]], shape=(2, 128), dtype=float32)\n",
            "Sequence Outputs Shape: (2, 128, 128)\n",
            "Sequence Outputs Values: tf.Tensor(\n",
            "[[[ 0.73784965  0.6468414   1.4904901  ...  0.7170412   0.39639616\n",
            "    2.4403534 ]\n",
            "  [ 0.82598066  2.278494    2.7428224  ...  0.04711669 -0.20306677\n",
            "    0.41707635]\n",
            "  [ 1.8927286   2.3991027   2.530036   ...  1.2135599   0.5009977\n",
            "   -0.42372137]\n",
            "  ...\n",
            "  [ 0.9149519   0.67947525  3.0144296  ...  0.9499518   0.61819315\n",
            "    2.6098416 ]\n",
            "  [ 1.0355229   0.5342034   3.4464831  ...  0.8159932   0.0781073\n",
            "    2.3334985 ]\n",
            "  [ 0.60048616 -0.1359011   3.8240137  ...  0.7554917  -0.66331166\n",
            "    1.7184199 ]]\n",
            "\n",
            " [[ 0.5279738   1.0544107   0.19593158 ...  0.5196473  -0.07451946\n",
            "    2.2905777 ]\n",
            "  [ 1.7765436   1.2879635   2.8340776  ...  0.58277124  0.32541746\n",
            "    1.2284033 ]\n",
            "  [ 2.602719    0.8674656   1.498882   ... -0.39665934 -0.38476294\n",
            "    2.6602423 ]\n",
            "  ...\n",
            "  [ 0.794263    1.6156268   2.1830378  ...  0.69016016 -0.20726892\n",
            "    2.9500802 ]\n",
            "  [ 0.70049304  0.9239437   2.5220845  ...  0.30072188 -0.7526605\n",
            "    2.778182  ]\n",
            "  [ 0.47255605  0.20147566  2.6570144  ...  0.01170969 -0.8965585\n",
            "    2.6589303 ]]], shape=(2, 128, 128), dtype=float32)\n"
          ]
        }
      ],
      "source": [
        "### Analyze and understand the BERT model.\n",
        "\n",
        "# Get the output of preprocessing module through the BERT model (encoder)\n",
        "bert_results = bert_model(sample_texts_preprocessed)\n",
        "\n",
        "# Print the BERT model path on tfhub\n",
        "print('Loaded BERT: ' + str(tfhub_model))\n",
        "\n",
        "### The BERT models return a map with 3 important keys: pooled_output, sequence_output, encoder_outputs\n",
        "# pooled_output: represents each input sequence as a whole. The shape is [batch_size, hidden_state]. This can be seen as an embedding for the entire movie review.\n",
        "print('Pooled Outputs Shape: ' + str(bert_results[\"pooled_output\"].shape))\n",
        "print('Pooled Outputs Values: ' + str(bert_results[\"pooled_output\"]))\n",
        "\n",
        "# sequence_output: represents each input token in the context. The shape is [batch_size, seq_length, H]. This can be seen as a contextual embedding for every token (word) in the movie review.\n",
        "print('Sequence Outputs Shape: ' + str(bert_results[\"sequence_output\"].shape))\n",
        "print('Sequence Outputs Values: ' + str(bert_results[\"sequence_output\"]))\n",
        "\n",
        "\n",
        "# When the BERT model has several Transfomer-encoder blocks, encoder_outputs are the intermediate activations of the L Transformer blocks.\n",
        "# outputs[\"encoder_outputs\"][i] is a Tensor of shape [batch_size, seq_length, 1024] with the outputs of the i-th Transformer block, for 0 <= i < L.\n",
        "# The last value of the list is equal to sequence_output."
      ]
    },
    {
      "cell_type": "code",
      "execution_count": 15,
      "metadata": {
        "colab": {
          "base_uri": "https://localhost:8080/"
        },
        "id": "GEmW5p5dKLdV",
        "outputId": "dbdb849a-5cfa-4b9d-9432-c2fbd5968036"
      },
      "outputs": [
        {
          "name": "stdout",
          "output_type": "stream",
          "text": [
            "Encoder output shape: (2, 128, 128)\n",
            "Encoder output value 0th:tf.Tensor(\n",
            "[[[-0.20113018  0.03751854 -0.359604   ...  0.33999783 -0.48978972\n",
            "    1.0526947 ]\n",
            "  [-0.32572854  2.9732575   2.2976167  ... -0.529701   -0.40128988\n",
            "    2.3752518 ]\n",
            "  [ 0.10457397  2.7407534   2.1593337  ...  1.1764832  -0.50731313\n",
            "    2.8830495 ]\n",
            "  ...\n",
            "  [ 0.15392074  0.33725616 -0.17673159 ...  0.02953973  0.17876564\n",
            "    4.4068604 ]\n",
            "  [ 0.29547173  0.22732231  0.30629197 ...  0.01680771 -0.19303887\n",
            "    4.3025637 ]\n",
            "  [ 0.20560023 -0.31425267  0.51499677 ... -0.10202128 -0.7367184\n",
            "    4.169812  ]]\n",
            "\n",
            " [[-0.24246758 -0.01705633 -0.27503425 ...  0.36851016 -0.43916264\n",
            "    0.89896727]\n",
            "  [ 0.41158524  1.0389171   1.9319706  ... -0.300494    0.31274697\n",
            "    4.427204  ]\n",
            "  [ 1.1589435   1.8468382   1.3761531  ...  0.5392158   0.4477169\n",
            "    3.3887355 ]\n",
            "  ...\n",
            "  [ 0.16381541  0.43676454 -0.20329346 ...  0.01677393  0.28593904\n",
            "    4.4159822 ]\n",
            "  [ 0.30664203  0.34227812  0.29795885 ...  0.01076412 -0.09242135\n",
            "    4.327504  ]\n",
            "  [ 0.22240072 -0.17979497  0.51211184 ... -0.10196245 -0.6181432\n",
            "    4.2141623 ]]], shape=(2, 128, 128), dtype=float32)\n",
            "Encoder output value 1th:tf.Tensor(\n",
            "[[[ 0.06672786  0.31823003 -0.8254066  ...  0.06798191  0.36825597\n",
            "    1.4087712 ]\n",
            "  [-0.26703393  2.368138    2.7069194  ... -0.78076524 -0.03620257\n",
            "    1.907292  ]\n",
            "  [ 0.6557      1.901849    2.5378976  ...  1.1118296  -0.25147864\n",
            "    1.8944424 ]\n",
            "  ...\n",
            "  [ 0.6255015   0.13809101  0.8431445  ...  0.31901953  0.8496585\n",
            "    2.0454502 ]\n",
            "  [ 0.7062946   0.05964812  1.2733968  ...  0.28176627  0.54600704\n",
            "    2.0200484 ]\n",
            "  [ 0.555209   -0.4889874   1.4071838  ...  0.14742063  0.03538688\n",
            "    1.9325815 ]]\n",
            "\n",
            " [[ 0.03223043  0.31956205 -0.8519204  ...  0.06022681  0.27693504\n",
            "    1.4679586 ]\n",
            "  [ 0.9862123   1.2518389   1.9831061  ...  0.0209045   0.14610586\n",
            "    2.9489748 ]\n",
            "  [ 1.1932251   1.1116327   1.5627271  ...  0.14899679 -0.22623692\n",
            "    3.1278574 ]\n",
            "  ...\n",
            "  [ 0.64227015  0.5181125   0.5567076  ...  0.05258497  0.5051776\n",
            "    2.419905  ]\n",
            "  [ 0.74376386  0.43364638  0.9841623  ...  0.02711309  0.21530733\n",
            "    2.3433695 ]\n",
            "  [ 0.6262501  -0.10429763  1.1575966  ... -0.09684822 -0.2712701\n",
            "    2.2080278 ]]], shape=(2, 128, 128), dtype=float32)\n",
            "Encoder output value 2th:tf.Tensor(\n",
            "[[[-0.24630848  0.3548907  -0.05065719 ...  0.37786606  0.4050095\n",
            "    1.0368078 ]\n",
            "  [ 0.40828937  3.085006    3.595896   ... -0.35882196  0.02594846\n",
            "    1.1271188 ]\n",
            "  [ 1.9215047   2.890949    3.604619   ...  1.6311215   0.96376497\n",
            "    0.34584144]\n",
            "  ...\n",
            "  [ 1.6895773   0.08818618  2.525065   ...  0.9312695   1.8252643\n",
            "    1.9091675 ]\n",
            "  [ 1.6891154  -0.03833197  2.9109542  ...  0.763593    1.0859479\n",
            "    1.6979647 ]\n",
            "  [ 0.9374412  -1.070914    3.4028122  ...  0.75424075 -0.16962576\n",
            "    1.2007105 ]]\n",
            "\n",
            " [[-0.26810747  0.22307199 -0.25766945 ...  0.09387323  0.3753842\n",
            "    1.0528429 ]\n",
            "  [ 2.8480995   1.7413154   3.8691032  ...  0.18672185  0.7583648\n",
            "    0.79724294]\n",
            "  [ 2.6616387   1.7049656   2.5585876  ... -0.5459484   0.17031349\n",
            "    1.9259931 ]\n",
            "  ...\n",
            "  [ 1.0218828   0.8066285   1.8847439  ...  0.5735523   0.5901744\n",
            "    2.3629162 ]\n",
            "  [ 0.80908954  0.16648954  2.2374616  ...  0.3179831  -0.19094262\n",
            "    2.185166  ]\n",
            "  [ 0.40893462 -0.9480076   2.5487938  ... -0.06750466 -0.45766667\n",
            "    1.9498402 ]]], shape=(2, 128, 128), dtype=float32)\n",
            "Encoder output value 3th:tf.Tensor(\n",
            "[[[ 0.73784965  0.6468414   1.4904901  ...  0.7170412   0.39639616\n",
            "    2.4403534 ]\n",
            "  [ 0.82598066  2.278494    2.7428224  ...  0.04711669 -0.20306677\n",
            "    0.41707635]\n",
            "  [ 1.8927286   2.3991027   2.530036   ...  1.2135599   0.5009977\n",
            "   -0.42372137]\n",
            "  ...\n",
            "  [ 0.9149519   0.67947525  3.0144296  ...  0.9499518   0.61819315\n",
            "    2.6098416 ]\n",
            "  [ 1.0355229   0.5342034   3.4464831  ...  0.8159932   0.0781073\n",
            "    2.3334985 ]\n",
            "  [ 0.60048616 -0.1359011   3.8240137  ...  0.7554917  -0.66331166\n",
            "    1.7184199 ]]\n",
            "\n",
            " [[ 0.5279738   1.0544107   0.19593158 ...  0.5196473  -0.07451946\n",
            "    2.2905777 ]\n",
            "  [ 1.7765436   1.2879635   2.8340776  ...  0.58277124  0.32541746\n",
            "    1.2284033 ]\n",
            "  [ 2.602719    0.8674656   1.498882   ... -0.39665934 -0.38476294\n",
            "    2.6602423 ]\n",
            "  ...\n",
            "  [ 0.794263    1.6156268   2.1830378  ...  0.69016016 -0.20726892\n",
            "    2.9500802 ]\n",
            "  [ 0.70049304  0.9239437   2.5220845  ...  0.30072188 -0.7526605\n",
            "    2.778182  ]\n",
            "  [ 0.47255605  0.20147566  2.6570144  ...  0.01170969 -0.8965585\n",
            "    2.6589303 ]]], shape=(2, 128, 128), dtype=float32)\n"
          ]
        }
      ],
      "source": [
        "#Print the encoder output shape and its outputs\n",
        "print(\"Encoder output shape: \" + str(bert_results[\"encoder_outputs\"][0].shape))\n",
        "for i in range(len(bert_results[\"encoder_outputs\"])):\n",
        "  print(\"Encoder output value %dth:\"%(i) + str(bert_results[\"encoder_outputs\"][i]) )"
      ]
    },
    {
      "cell_type": "markdown",
      "metadata": {
        "id": "BuTZbrQMoQOy"
      },
      "source": [
        "# Build complete model using preprocessing module, BERT model and classification layers"
      ]
    },
    {
      "cell_type": "code",
      "execution_count": 16,
      "metadata": {
        "colab": {
          "base_uri": "https://localhost:8080/"
        },
        "id": "HV1U2lYuDJW4",
        "outputId": "ce9ae743-346b-4a49-9056-44df4d272c7a"
      },
      "outputs": [
        {
          "name": "stdout",
          "output_type": "stream",
          "text": [
            "(None, 1, 128)\n",
            "KerasTensor(type_spec=TensorSpec(shape=(4,), dtype=tf.int32, name=None), inferred_value=[4, None, 128, 128], name='tf.compat.v1.shape/Shape:0', description=\"created by layer 'tf.compat.v1.shape'\")\n",
            "Shape of the concatenated tensor(None, 512)\n",
            "Model: \"BERT_complete_model\"\n",
            "__________________________________________________________________________________________________\n",
            " Layer (type)                Output Shape                 Param #   Connected to                  \n",
            "==================================================================================================\n",
            " text (InputLayer)           [(None,)]                    0         []                            \n",
            "                                                                                                  \n",
            " preprocessing (KerasLayer)  {'input_type_ids': (None,    0         ['text[0][0]']                \n",
            "                             128),                                                                \n",
            "                              'input_mask': (None, 128)                                           \n",
            "                             , 'input_word_ids': (None,                                           \n",
            "                              128)}                                                               \n",
            "                                                                                                  \n",
            " tf.expand_dims (TFOpLambda  (None, 1, 128)               0         ['preprocessing[0][0]']       \n",
            " )                                                                                                \n",
            "                                                                                                  \n",
            " BERT_encoder (KerasLayer)   {'pooled_output': (None, 1   4782465   ['preprocessing[0][0]',       \n",
            "                             28),                                    'preprocessing[0][1]',       \n",
            "                              'sequence_output': (None,              'preprocessing[0][2]']       \n",
            "                              128, 128),                                                          \n",
            "                              'encoder_outputs': [(None                                           \n",
            "                             , 128, 128),                                                         \n",
            "                              (None, 128, 128),                                                   \n",
            "                              (None, 128, 128),                                                   \n",
            "                              (None, 128, 128)],                                                  \n",
            "                              'default': (None, 128)}                                             \n",
            "                                                                                                  \n",
            " tf.cast (TFOpLambda)        (None, 1, 128)               0         ['tf.expand_dims[0][0]']      \n",
            "                                                                                                  \n",
            " concatenate (Concatenate)   (None, 128, 512)             0         ['BERT_encoder[0][1]',        \n",
            "                                                                     'BERT_encoder[0][2]',        \n",
            "                                                                     'BERT_encoder[0][3]',        \n",
            "                                                                     'BERT_encoder[0][4]']        \n",
            "                                                                                                  \n",
            " tf.linalg.matmul (TFOpLamb  (None, 1, 512)               0         ['tf.cast[0][0]',             \n",
            " da)                                                                 'concatenate[0][0]']         \n",
            "                                                                                                  \n",
            " tf.compat.v1.squeeze (TFOp  (None, 512)                  0         ['tf.linalg.matmul[0][0]']    \n",
            " Lambda)                                                                                          \n",
            "                                                                                                  \n",
            " dense (Dense)               (None, 128)                  65664     ['tf.compat.v1.squeeze[0][0]']\n",
            "                                                                                                  \n",
            " batch_normalization (Batch  (None, 128)                  512       ['dense[0][0]']               \n",
            " Normalization)                                                                                   \n",
            "                                                                                                  \n",
            " dropout (Dropout)           (None, 128)                  0         ['batch_normalization[0][0]'] \n",
            "                                                                                                  \n",
            " classifier (Dense)          (None, 1)                    129       ['dropout[0][0]']             \n",
            "                                                                                                  \n",
            "==================================================================================================\n",
            "Total params: 4848770 (18.50 MB)\n",
            "Trainable params: 4848513 (18.50 MB)\n",
            "Non-trainable params: 257 (1.00 KB)\n",
            "__________________________________________________________________________________________________\n"
          ]
        }
      ],
      "source": [
        "# Build the complete model, including preprocessing module, BERT model and classification layers\n",
        "def build_model():\n",
        "  text_input = keras.layers.Input(shape=(), dtype=tf.string, name='text') # Define text input layer\n",
        "  preprocessing_layer = hub.KerasLayer(tfhub_preprocess, name='preprocessing') # Define preprocessing layer\n",
        "  encoder_inputs = preprocessing_layer(text_input) # Get the text input through the preprocessing layer. Output of this is input of Bert model (a.k.a. encoder)\n",
        "  encoder = hub.KerasLayer(tfhub_model, trainable=True, name='BERT_encoder') # Define Bert model. 'Trainable' = True parameter is for finetuning purpose\n",
        "  input_mask = tf.expand_dims(encoder_inputs[\"input_mask\"], axis=1)\n",
        "  print(input_mask.shape)\n",
        "  outputs = encoder(encoder_inputs) # Get the encoder_inputs through the Bert model to get output embedding vector\n",
        "  net = outputs['encoder_outputs'] # Pick the 'encoder_outputs' as this can be seen as embedding for the entire movie review.\n",
        "  print(tf.shape(outputs['encoder_outputs']))\n",
        "  ###Concatenate all encoder outputs along its last dimension (hidden_states) into one tensor\n",
        "  net = keras.layers.Concatenate(axis=-1)(net)\n",
        "  ###I follow a trick by Toward Data Science. That is to multiply the encoder outputs with the input mask, to mask out the padded tokens.\n",
        "  net = tf.matmul(tf.cast(input_mask, tf.float32), net)\n",
        "  net = tf.squeeze(net, axis=1)\n",
        "  print(\"Shape of the concatenated tensor\" + str(net.shape))\n",
        "  net = keras.layers.Dense(128, activation='relu')(net) # Add dense layer\n",
        "  net = keras.layers.BatchNormalization()(net) # Add batch norm layer\n",
        "  net = keras.layers.Dropout(0.1)(net) # Add dropout layer\n",
        "  net = keras.layers.Dense(1, activation='sigmoid', name='classifier')(net) # Add binary classification output layer\n",
        "  return keras.Model(inputs=text_input, outputs=net, name=\"BERT_complete_model\")\n",
        "\n",
        "# Build the complete model\n",
        "model = build_model()\n",
        "\n",
        "# Print the model architecture\n",
        "model.summary()"
      ]
    },
    {
      "cell_type": "markdown",
      "metadata": {
        "id": "yvecP_6coQOz"
      },
      "source": [
        "# Training model"
      ]
    },
    {
      "cell_type": "code",
      "execution_count": 17,
      "metadata": {
        "id": "GxZSOzASRTAQ"
      },
      "outputs": [],
      "source": [
        "mc = ModelCheckpoint(filepath=\"epoch-{epoch:02d}.hdf5\", # Path to save the model\n",
        "                                     monitor='val_accuracy', # Metric to evaluate the model performance when looking for a better model.\n",
        "                                     mode='min', # mode='auto'/'max'/'min': the monitor should be max/min to be better.\n",
        "                                                 # In auto mode, the mode is set to max if the quantities monitored are 'acc' or start with 'fmeasure' (f-score) and are set to min for the rest of the quantities.\n",
        "                                     verbose=0, # Inform every time a better model is found and saved.\n",
        "                                     save_best_only=True) # Only save the model if the current training epoch is the best. 'False' means save models of all training epochs\n",
        "lr_reduced = ReduceLROnPlateau(monitor='val_accuracy', mode='max', verbose = 0,\n",
        "                               factor = 0.2, patience = 3, min_lr = 0.000001)\n",
        "es = EarlyStopping(monitor='val_accuracy', mode='max', verbose=1, patience=5)"
      ]
    },
    {
      "cell_type": "code",
      "execution_count": 18,
      "metadata": {
        "colab": {
          "base_uri": "https://localhost:8080/"
        },
        "id": "2FXpsIWXoQOz",
        "outputId": "43b785d0-c626-4c18-c1b9-1ed874e81235"
      },
      "outputs": [
        {
          "name": "stdout",
          "output_type": "stream",
          "text": [
            "Epoch 1/10\n",
            "2499/2500 [============================>.] - ETA: 0s - loss: 0.6350 - accuracy: 0.6524"
          ]
        },
        {
          "name": "stderr",
          "output_type": "stream",
          "text": [
            "/usr/local/lib/python3.10/dist-packages/keras/src/engine/training.py:3000: UserWarning: You are saving your model as an HDF5 file via `model.save()`. This file format is considered legacy. We recommend using instead the native Keras format, e.g. `model.save('my_model.keras')`.\n",
            "  saving_api.save_model(\n"
          ]
        },
        {
          "name": "stdout",
          "output_type": "stream",
          "text": [
            "\b\b\b\b\b\b\b\b\b\b\b\b\b\b\b\b\b\b\b\b\b\b\b\b\b\b\b\b\b\b\b\b\b\b\b\b\b\b\b\b\b\b\b\b\b\b\b\b\b\b\b\b\b\b\b\b\b\b\b\b\b\b\b\b\b\b\b\b\b\b\b\b\b\b\b\b\b\b\b\b\b\b\b\b\b\b\r2500/2500 [==============================] - 183s 67ms/step - loss: 0.6349 - accuracy: 0.6525 - val_loss: 0.5586 - val_accuracy: 0.7394 - lr: 1.0000e-05\n",
            "Epoch 2/10\n",
            "2500/2500 [==============================] - 119s 47ms/step - loss: 0.5237 - accuracy: 0.7394 - val_loss: 0.4730 - val_accuracy: 0.7850 - lr: 1.0000e-05\n",
            "Epoch 3/10\n",
            "2500/2500 [==============================] - 118s 47ms/step - loss: 0.4716 - accuracy: 0.7782 - val_loss: 0.4905 - val_accuracy: 0.7844 - lr: 1.0000e-05\n",
            "Epoch 4/10\n",
            "2500/2500 [==============================] - 116s 46ms/step - loss: 0.4415 - accuracy: 0.7927 - val_loss: 0.5935 - val_accuracy: 0.7888 - lr: 1.0000e-05\n",
            "Epoch 5/10\n",
            "2500/2500 [==============================] - 114s 45ms/step - loss: 0.4167 - accuracy: 0.8088 - val_loss: 0.4522 - val_accuracy: 0.8116 - lr: 1.0000e-05\n",
            "Epoch 6/10\n",
            "2500/2500 [==============================] - 116s 46ms/step - loss: 0.3967 - accuracy: 0.8183 - val_loss: 0.4301 - val_accuracy: 0.8052 - lr: 1.0000e-05\n",
            "Epoch 7/10\n",
            "2500/2500 [==============================] - 119s 47ms/step - loss: 0.3804 - accuracy: 0.8303 - val_loss: 0.4016 - val_accuracy: 0.8228 - lr: 1.0000e-05\n",
            "Epoch 8/10\n",
            "2500/2500 [==============================] - 115s 46ms/step - loss: 0.3596 - accuracy: 0.8401 - val_loss: 0.4137 - val_accuracy: 0.8270 - lr: 1.0000e-05\n",
            "Epoch 9/10\n",
            "2500/2500 [==============================] - 113s 45ms/step - loss: 0.3371 - accuracy: 0.8536 - val_loss: 0.4413 - val_accuracy: 0.8176 - lr: 1.0000e-05\n",
            "Epoch 10/10\n",
            "2500/2500 [==============================] - 114s 46ms/step - loss: 0.3239 - accuracy: 0.8623 - val_loss: 0.4104 - val_accuracy: 0.8314 - lr: 1.0000e-05\n"
          ]
        }
      ],
      "source": [
        "# Compile the model\n",
        "model.compile(optimizer=tf.keras.optimizers.AdamW(learning_rate = 1e-5),\n",
        "                         loss='binary_crossentropy',\n",
        "                         metrics=['accuracy'])\n",
        "\n",
        "# Train the model\n",
        "history = model.fit(X_train, y_train,\n",
        "                               epochs=10,\n",
        "                               batch_size = 16,\n",
        "                               validation_data=(X_val, y_val),\n",
        "                               callbacks = [mc, lr_reduced, es]\n",
        "                              )"
      ]
    },
    {
      "cell_type": "markdown",
      "metadata": {
        "id": "5lcE70HLtwLx"
      },
      "source": [
        "# Evaluate model performance on test set"
      ]
    },
    {
      "cell_type": "code",
      "execution_count": 19,
      "metadata": {
        "colab": {
          "base_uri": "https://localhost:8080/"
        },
        "id": "Po2r5Uywt8Is",
        "outputId": "cdf819f2-008f-4f4c-9dbb-da3597eabe6c"
      },
      "outputs": [
        {
          "name": "stdout",
          "output_type": "stream",
          "text": [
            "157/157 [==============================] - 11s 70ms/step - loss: 0.4046 - accuracy: 0.8396\n",
            "Test Loss: 0.404607355594635\n",
            "Test Accuracy: 0.8396000266075134\n"
          ]
        }
      ],
      "source": [
        "# Evaluate the model on the test set\n",
        "test_loss, test_acc = model.evaluate(X_test, y_test)\n",
        "print('Test Loss:', test_loss)\n",
        "print('Test Accuracy:', test_acc)"
      ]
    },
    {
      "cell_type": "markdown",
      "metadata": {
        "id": "bGKyJTciuCY9"
      },
      "source": [
        "# Plot model training performance over epochs"
      ]
    },
    {
      "cell_type": "code",
      "execution_count": 20,
      "metadata": {
        "colab": {
          "base_uri": "https://localhost:8080/",
          "height": 487
        },
        "id": "13UQ6db6tR2P",
        "outputId": "8e70e966-2850-4abc-9b99-938dcdedc45b"
      },
      "outputs": [
        {
          "data": {
            "image/png": "[encoded data removed]",
            "text/plain": [
              "<Figure size 1500x500 with 2 Axes>"
            ]
          },
          "metadata": {},
          "output_type": "display_data"
        }
      ],
      "source": [
        "# Initialize the plot\n",
        "fig, (ax1, ax2) = plt.subplots(1, 2, figsize=(15, 5))\n",
        "\n",
        "# Plot model loss during training\n",
        "ax1.plot(history.history[\"loss\"])\n",
        "ax1.plot(history.history[\"val_loss\"])\n",
        "ax1.legend([\"train\", \"val\"], loc=\"upper right\")\n",
        "ax1.set_xlabel(\"Epochs\")\n",
        "ax1.set_ylabel(\"Loss\")\n",
        "ax1.set_title(\"Model loss over epochs\")\n",
        "\n",
        "# Plot model accuracy during training\n",
        "ax2.plot(history.history[\"accuracy\"])\n",
        "ax2.plot(history.history[\"val_accuracy\"])\n",
        "ax2.legend([\"train\", \"val\"], loc=\"upper right\")\n",
        "ax2.set_xlabel(\"Epochs\")\n",
        "ax2.set_ylabel(\"Accuracy\")\n",
        "ax2.set_title(\"Model accuracy over epochs\")\n",
        "plt.show()"
      ]
    },
    {
      "cell_type": "markdown",
      "metadata": {
        "id": "IgRCA_j0uaPl"
      },
      "source": [
        "# Predict some movie review samples"
      ]
    },
    {
      "cell_type": "code",
      "execution_count": 35,
      "metadata": {
        "colab": {
          "base_uri": "https://localhost:8080/"
        },
        "id": "5y0meVsmulZd",
        "outputId": "95311ff4-e976-47c9-f54d-eb4f8f5bcab6"
      },
      "outputs": [
        {
          "name": "stdout",
          "output_type": "stream",
          "text": [
            "1/1 [==============================] - 0s 31ms/step\n",
            "[0.90196633]\n",
            "[0.40010646]\n"
          ]
        }
      ],
      "source": [
        "# Make prediction on new text reviews\n",
        "sample_reviews = [('It is a cool movie. The graphics and the animation are awesome.'),\n",
        "                  ('The movie was really bad. I would not recommend it to anyone.')]\n",
        "predictions = model.predict(np.array(sample_reviews))\n",
        "print(predictions[0])\n",
        "print(predictions[1])"
      ]
    }
  ],
  "metadata": {
    "accelerator": "GPU",
    "colab": {
      "machine_shape": "hm",
      "provenance": []
    },
    "kernelspec": {
      "display_name": "Python 3",
      "name": "python3"
    },
    "language_info": {
      "codemirror_mode": {
        "name": "ipython",
        "version": 3
      },
      "file_extension": ".py",
      "mimetype": "text/x-python",
      "name": "python",
      "nbconvert_exporter": "python",
      "pygments_lexer": "ipython3",
      "version": "3.11.3"
    }
  },
  "nbformat": 4,
  "nbformat_minor": 0
}
